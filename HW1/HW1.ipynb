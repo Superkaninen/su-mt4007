{
 "cells": [
  {
   "cell_type": "markdown",
   "id": "d1557d5f-8319-4d80-8fbb-0a757628abb4",
   "metadata": {},
   "source": [
    "# Homework"
   ]
  },
  {
   "cell_type": "markdown",
   "id": "b94fa783-75f3-415f-b741-b21814f2b109",
   "metadata": {},
   "source": [
    "## Brief description of me\n",
    "I am 23 years old and i am studying my third year of the bachelor's Program in Mathematical Economics and Statistics."
   ]
  },
  {
   "cell_type": "markdown",
   "id": "e4baeb8f-9629-460a-babd-a3567855b216",
   "metadata": {},
   "source": [
    "## Previous experience with Data Science.\n",
    "My previous experience in data science consists of the previous courses in the bachelor's program that have covered this subject."
   ]
  }
 ],
 "metadata": {
  "kernelspec": {
   "display_name": "Python 3 (ipykernel)",
   "language": "python",
   "name": "python3"
  },
  "language_info": {
   "codemirror_mode": {
    "name": "ipython",
    "version": 3
   },
   "file_extension": ".py",
   "mimetype": "text/x-python",
   "name": "python",
   "nbconvert_exporter": "python",
   "pygments_lexer": "ipython3",
   "version": "3.12.7"
  }
 },
 "nbformat": 4,
 "nbformat_minor": 5
}
