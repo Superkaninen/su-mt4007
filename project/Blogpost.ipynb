{
 "cells": [
  {
   "cell_type": "markdown",
   "id": "3d63ece0-083d-4002-86e4-ccd2d21014cc",
   "metadata": {},
   "source": [
    "# Strong Wrapped 2024"
   ]
  },
  {
   "cell_type": "markdown",
   "id": "15501287-d517-4c75-a308-7dad4e54b096",
   "metadata": {},
   "source": [
    "As 2024 has come to an end, it felt appropriate to start the new year with a recap of the previous one. Inspired by the yearly Spotify Wrapped that many of you are probably familiar with, I wanted to create my own version to summarize the activity and progress of my workouts during 2024. By the start of the year, I downloaded the [strong app](https://www.strong.app/) o better track my progress, and as it turns out, this was also a great way to summarize and analyze my workouts throughout the entire year. The PRO version of the app has a variety of features for tracking everything related to your exercises, but the free alternative is a great option for basic tracking. For each workout, every exercise, number of sets, repetitions, and weights can be saved in a template to easily record your performance for the day.\n",
    "\n",
    "## Collected Data\n",
    "The data collected from the Strong app can be found on [GitHub](https://github.com/Superkaninen/su-mt4007/blob/main/project/strong.csv) and contains all of the information about each exercise, split into details for every single set, as well as the date, timestamp, workout name, and the duration of the workout. Unfortunately, I have been quite bad at ending the workout at the correct time (some workouts have apparently lasted for days), so this information is not particularly useful.\n",
    "\n",
    "I have also used an externa [dataset](https://www.kaggle.com/datasets/rishitmurarka/gym-exercises-dataset?utm_source=chatgpt.com) constructed by [Rishit Murarka](https://www.kaggle.com/rishitmurarka) that summarizes 617 different variations of exercises, including information about them such as preparation, execution, target muscles, and much more. For the purpose of my analysis, I have only focused on the targeted muscles for each exercise, but there is a lot more to discover if you're interested in learning more.\n",
    "\n",
    "## Shaping Data \n",
    "Since the data comes from my own tracking, there are some mistakes and unnecessary data points. The first thing I did was clean the data by removing redundant columns such as `Notes` och `Distance` and rows containing warm-up exercises. I also needed to adjust one input mistake (even though 675 kg seems a lot more impressive than 67.5 kg) and the weight for the assisted pull-ups, as less weight on the machine means progress.\n",
    "\n",
    "> _**Note:** If you are interested in trying the code with your own strong-data, this part would need to be personilized._\n",
    "\n",
    "The second step was to remake the format of the column `Date` by splitting into two columns `Date` and `Time` with the format `%Y-%m-%d` and `%H:%M:%S`. I also added another column to mark whether the workout took place before or after lunch to more easily conduct a small experiment.\n",
    "\n",
    "To make use of the second [dataset](https://www.kaggle.com/datasets/rishitmurarka/gym-exercises-dataset?utm_source=chatgpt.com) I merged it with exercises that matched my own from the Strong data. Unfortunately, the names for the various exercises differed so much between the two datasets (which I had previously discovered was an issue in my attempt to get the information by web scraping) that my only reasonable choice, given the relatively small number of exercises, was to pick them out manually.\n",
    "\n",
    "The last step (and the key to this analysis) in reshaping the data was to create a scoring system for each exercise for every single workout. The initial data contains every set of every exercise, but this makes it really difficult to track overall progress. Instead, I wanted to score each exercise so that there would be one score per workout. Since I always do at least three working sets after the warm-up, I decided to calculate the average weight of the three heaviest sets and multiply that by the average number of corresponding reps. However, I ran into a bit of an issue: sets with higher reps got an unreasonably high score compared to sets with higher weight but fewer reps, which resulted in a lower score for exercises when I had increased the weight (i.e., made progress). Because of this, I took the natural logarithm of the average number of reps to more realistically represent the actual performance. The final score for each exercise is calculated like this, where $H3$ represents the top three heaviest sets:\n",
    "$$\n",
    "\\text{Score} = \\frac{\\sum_{H3} \\text{Weight}}{3} \\cdot \\log\\left(\\frac{\\sum_{H3} \\text{Reps}}{3}\\right)\n",
    "$$"
   ]
  },
  {
   "cell_type": "markdown",
   "id": "e7337455-2002-4f03-952c-92b240ec06dc",
   "metadata": {},
   "source": [
    "## A Quick Recap - 2024\n",
    "\n",
    "Using the data from the strong app, I first wanted to do a guick summary of this years workouts and the results look like this:"
   ]
  },
  {
   "cell_type": "markdown",
   "id": "4a44b961-1e70-463d-8bff-2b192cbccb4d",
   "metadata": {},
   "source": [
    "<div style=\"text-align: center;\"><img src=\"figure7.png\" width=\"800\" height=\"auto\"></div>"
   ]
  },
  {
   "cell_type": "markdown",
   "id": "75ebc7be-e126-4976-ae70-70ecf234bc9f",
   "metadata": {},
   "source": [
    "As I aim to work out three times a week, the result of 115 workouts is a bit low, but expected. A goal for 2025 would therefore be to exceed this number. The total weight lifted is not particularly relevant, but it is a fun thought that, piece by piece, you have lifted approximately the weight of four full-grown blue whales.\n",
    "\n",
    "## Timeline - When Did It All Happen?\n",
    "The following two bar plots (see Figures 1 and 2) illustrate the distribution of my 115 workouts by month and time of day. Since the data spans from January 17 to December 21, it’s understandable that the months of January and December show lower activity levels, though i cannot explain the \"mysterious\" gap in August... Overall the first plot indicates a drop in activity during the fall which correspond with the workload of my studies and general health. The second plot clearly shows that I made an effort to avoid peak workout times, as all of my sessions took place either before or after lunch."
   ]
  },
  {
   "cell_type": "markdown",
   "id": "c9682694-93d7-4fde-8af1-d36fb64276ef",
   "metadata": {},
   "source": [
    "<div style=\"text-align: center;\"><img src=\"figure1.png\" width=\"400\" height=\"auto\"> <img src=\"figure2.png\" width=\"400\" height=\"auto\"></div>"
   ]
  },
  {
   "cell_type": "markdown",
   "id": "2c36bde0-2f99-4853-95ec-3f5529a3999a",
   "metadata": {},
   "source": [
    "## Side Quest - A Small Experiment\n",
    "I have been curious for a long time whether the time of the workout impacts my performance, and I thought this was the perfect opportunity to investigate this further. For this purpose, I split the workouts into two categories: before and after lunch. I then calculated the average score for every exercise in the two groups and treated them as two independent samples.\n",
    "\n",
    "After a quick investigation using a QQ-plot and a histogram, I concluded that the samples were not normally distributed. Because of this, a [Wilcox Rank Sum Test](https://en.wikipedia.org/wiki/Mann%E2%80%93Whitney_U_test) seemed most appropriate. Contrary to my initial guess, the test resulted in a very high p-value of $0.733$. The null hypothesis, that there was no difference between the two samples, could therefore not be rejected.\n",
    "\n"
   ]
  },
  {
   "cell_type": "markdown",
   "id": "729e31fd-6b4e-4520-b063-db13e87973d2",
   "metadata": {},
   "source": [
    "## Muscles In Focus\n",
    "\n",
    "<div style=\"display: flex; align-items: flex-start;\">\n",
    "  <div style=\"flex: 1; max-width: 50%; padding-right: 140px;\">\n",
    "In this section, I want to focus on the actual muscles that did the work. To summarize this, I used the strong data merged with the containing information about the targeted muscles for each exercise. I then added together every occurrence of each exercise and the corresponding targeted muscle groups to form a word cloud that demonstrates the most used muscles this year. The results, shown in Figure 3, reveal a clear winner: the gluteus maximus. This is the largest muscle in the body and intentionally one of my main focuses. Looking at the other most prominent words, many of them are back muscles. Altogether, the results match my personal goals, but they also highlight areas that I would like to change in the coming year. For example, I would like to put more focus on the quadriceps and less on the runner-up, trapezius.\n",
    "  </div>\n",
    "  <div style=\"flex: 0 0 auto;\">\n",
    "    <img src=\"figure3.png\" width=\"220\" height=\"auto\">\n",
    "  </div>\n",
    "</div>"
   ]
  },
  {
   "cell_type": "markdown",
   "id": "b0a73b30-d768-4321-bfb6-9f715425503f",
   "metadata": {},
   "source": [
    "## Performance And Progress (hopefully)\n",
    "\n",
    "The part I have been most curious about, and that turned out to be a real reality check, is the actual progress of my workouts. To investigate this, I created two plots showing the individual scores for each exercise and workout. The first plot, in Figure 4, shows the progress of the top 6 most frequent exercises, and the second one, in Figure 5, shows the remaining exercises that have been done at least 10 times.\n",
    "\n",
    "For the most part, there is some increase in score, but a few exercises surprised me. Even though it doesn’t look like much progress, I was under the impression that my deadlifts were going horribly, so the fact that they show some overall progress was a great motivator. As for Hip Thrusts, Bulgarian Split Squats, and Leg Press, the progress has been really great and consistently so.\n",
    "\n",
    "The exercises that really surprised me were the almost non-existent progress of the Barbell Bench Press, Bicep Curls, and Pull-Ups. This was really discouraging but also a great reminder that I need to change my routine for things to improve.\n",
    "\n",
    "The last thing that became really apparent was the pattern of doing well at the beginning of a new exercise, then settling into the expected plateau, until I became so bored and discouraged that I quit and switched to a similar exercise instead. For example, Seated Leg Press changed to \"regular\" Leg Press, and Barbell Romanian Deadlifts became Dumbbell Romanian Deadlifts. My first reaction was that I wasn’t motivated enough to push through, but after further examination of the actual results, I think it’s actually a good strategy to find exercises where I can make progress."
   ]
  },
  {
   "cell_type": "markdown",
   "id": "22fca32c-3f1d-42ec-9e66-28bb0a1a3a22",
   "metadata": {},
   "source": [
    "<img src=\"figure4.png\" width=\"400\" height=\"auto\">  <img src=\"figure5.png\" width=\"400\" height=\"auto\">"
   ]
  },
  {
   "cell_type": "markdown",
   "id": "baa31943-f271-4fb7-916b-963ce2fdb7d1",
   "metadata": {},
   "source": [
    "## Final Result \n",
    "To compute the final result for my progress, I calculated the score increase from the first three and last three instances of each exercise. The results, shown in Table 1, highlight the top ten exercises with the highest increase in score.\n",
    "\n",
    "First, I need to point out that the extreme increase in the Back Extension is likely due to the fact that I initially started with a very low weight to learn the correct form. The results strongly confirm the trends seen in Figure 4, with the top exercises being Hip Thrusts, Split Squats, and Leg Press. This also aligns with the most frequently used muscle group, the gluteus maximus.\n",
    "\n",
    "Though it did not make the list below, I also want to share my biggest failure since that is all part of the process. As it turns out, I actually had one negative final score: the Barbell Bench Press. I’m still not entirely sure how this is even possible, but seeing it laid out in numbers makes it crystal clear.\n",
    "\n",
    "I have had a lot of ups and downs, but overall, I’m proud of my results and excited to continue improving in 2025. Hopefully you get inspired to evaluate your own progress to easier make new workout goals for the comming year. "
   ]
  },
  {
   "cell_type": "markdown",
   "id": "ea552495-e352-48bc-84dd-f95505585553",
   "metadata": {},
   "source": [
    "<div style=\"text-align: center;\"><img src=\"table1.png\" width=\"350\" height=\"auto\"></div>"
   ]
  },
  {
   "cell_type": "markdown",
   "id": "642e4e47-287a-4889-8fb2-3a9f6fe2bb89",
   "metadata": {},
   "source": [
    "## Code \n",
    "If you are interested in making your own version or are simply curious about the code used, the complete code can be found [here](https://github.com/Superkaninen/su-mt4007/blob/main/project/Strong_Code.ipynb)."
   ]
  },
  {
   "cell_type": "code",
   "execution_count": null,
   "id": "24bf4610-e154-4e63-8f4b-b880bee73aaa",
   "metadata": {},
   "outputs": [],
   "source": []
  }
 ],
 "metadata": {
  "kernelspec": {
   "display_name": "R",
   "language": "R",
   "name": "ir"
  },
  "language_info": {
   "codemirror_mode": "r",
   "file_extension": ".r",
   "mimetype": "text/x-r-source",
   "name": "R",
   "pygments_lexer": "r",
   "version": "4.4.1"
  }
 },
 "nbformat": 4,
 "nbformat_minor": 5
}
